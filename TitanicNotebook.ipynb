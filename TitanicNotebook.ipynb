{
 "cells": [
  {
   "cell_type": "code",
   "execution_count": 1,
   "id": "0954d1f4",
   "metadata": {
    "_cell_guid": "b1076dfc-b9ad-4769-8c92-a6c4dae69d19",
    "_uuid": "8f2839f25d086af736a60e9eeb907d3b93b6e0e5",
    "execution": {
     "iopub.execute_input": "2025-01-31T15:24:50.065368Z",
     "iopub.status.busy": "2025-01-31T15:24:50.064937Z",
     "iopub.status.idle": "2025-01-31T15:25:11.738711Z",
     "shell.execute_reply": "2025-01-31T15:25:11.737606Z"
    },
    "papermill": {
     "duration": 21.686634,
     "end_time": "2025-01-31T15:25:11.740748",
     "exception": false,
     "start_time": "2025-01-31T15:24:50.054114",
     "status": "completed"
    },
    "tags": []
   },
   "outputs": [],
   "source": [
    "import pandas as pd\n",
    "import numpy as np\n",
    "import random as rnd\n",
    "import math\n",
    "\n",
    "import seaborn as sns\n",
    "import matplotlib.pyplot as plt\n",
    "from matplotlib.ticker import MaxNLocator\n",
    "%matplotlib inline\n",
    "\n",
    "from eli5.sklearn import PermutationImportance\n",
    "from sklearn.compose import ColumnTransformer\n",
    "from sklearn.pipeline import Pipeline\n",
    "from sklearn.impute import SimpleImputer\n",
    "from sklearn.preprocessing import OneHotEncoder\n",
    "from sklearn.ensemble import RandomForestRegressor\n",
    "from sklearn.metrics import mean_absolute_error\n",
    "from sklearn.model_selection import cross_val_score\n",
    "from xgboost import XGBClassifier\n",
    "\n",
    "import warnings\n",
    "warnings.filterwarnings('ignore')"
   ]
  },
  {
   "cell_type": "markdown",
   "id": "2a6a2010",
   "metadata": {
    "papermill": {
     "duration": 0.007514,
     "end_time": "2025-01-31T15:25:11.757251",
     "exception": false,
     "start_time": "2025-01-31T15:25:11.749737",
     "status": "completed"
    },
    "tags": []
   },
   "source": [
    "# EDA"
   ]
  },
  {
   "cell_type": "code",
   "execution_count": 2,
   "id": "7a9dce64",
   "metadata": {
    "execution": {
     "iopub.execute_input": "2025-01-31T15:25:11.774319Z",
     "iopub.status.busy": "2025-01-31T15:25:11.773549Z",
     "iopub.status.idle": "2025-01-31T15:25:11.821334Z",
     "shell.execute_reply": "2025-01-31T15:25:11.820505Z"
    },
    "papermill": {
     "duration": 0.058268,
     "end_time": "2025-01-31T15:25:11.823231",
     "exception": false,
     "start_time": "2025-01-31T15:25:11.764963",
     "status": "completed"
    },
    "tags": []
   },
   "outputs": [],
   "source": [
    "train = pd.read_csv('/kaggle/input/titanic/train.csv')\n",
    "test = pd.read_csv('/kaggle/input/titanic/test.csv')\n",
    "PassengerId = test['PassengerId']\n",
    "\n",
    "train.dropna(axis=0, subset=['Survived'], inplace=True)\n",
    "y_train = train.Survived\n",
    "train.drop(['PassengerId'], axis=1, inplace=True)\n",
    "test.drop(['PassengerId'], axis=1, inplace=True)\n",
    "\n",
    "full_data = pd.concat([train, test]).reset_index(drop=True)"
   ]
  },
  {
   "cell_type": "code",
   "execution_count": 3,
   "id": "7cdf73be",
   "metadata": {
    "execution": {
     "iopub.execute_input": "2025-01-31T15:25:11.839815Z",
     "iopub.status.busy": "2025-01-31T15:25:11.839477Z",
     "iopub.status.idle": "2025-01-31T15:25:11.845913Z",
     "shell.execute_reply": "2025-01-31T15:25:11.844932Z"
    },
    "papermill": {
     "duration": 0.016676,
     "end_time": "2025-01-31T15:25:11.847659",
     "exception": false,
     "start_time": "2025-01-31T15:25:11.830983",
     "status": "completed"
    },
    "tags": []
   },
   "outputs": [
    {
     "data": {
      "text/plain": [
       "(1309, 11)"
      ]
     },
     "execution_count": 3,
     "metadata": {},
     "output_type": "execute_result"
    }
   ],
   "source": [
    "full_data.shape"
   ]
  },
  {
   "cell_type": "code",
   "execution_count": 4,
   "id": "6dd5ff67",
   "metadata": {
    "execution": {
     "iopub.execute_input": "2025-01-31T15:25:11.865460Z",
     "iopub.status.busy": "2025-01-31T15:25:11.865092Z",
     "iopub.status.idle": "2025-01-31T15:25:11.882903Z",
     "shell.execute_reply": "2025-01-31T15:25:11.881848Z"
    },
    "papermill": {
     "duration": 0.028588,
     "end_time": "2025-01-31T15:25:11.884689",
     "exception": false,
     "start_time": "2025-01-31T15:25:11.856101",
     "status": "completed"
    },
    "tags": []
   },
   "outputs": [
    {
     "data": {
      "text/plain": [
       "<bound method NDFrame.head of       Survived  Pclass                                               Name  \\\n",
       "0          0.0       3                            Braund, Mr. Owen Harris   \n",
       "1          1.0       1  Cumings, Mrs. John Bradley (Florence Briggs Th...   \n",
       "2          1.0       3                             Heikkinen, Miss. Laina   \n",
       "3          1.0       1       Futrelle, Mrs. Jacques Heath (Lily May Peel)   \n",
       "4          0.0       3                           Allen, Mr. William Henry   \n",
       "...        ...     ...                                                ...   \n",
       "1304       NaN       3                                 Spector, Mr. Woolf   \n",
       "1305       NaN       1                       Oliva y Ocana, Dona. Fermina   \n",
       "1306       NaN       3                       Saether, Mr. Simon Sivertsen   \n",
       "1307       NaN       3                                Ware, Mr. Frederick   \n",
       "1308       NaN       3                           Peter, Master. Michael J   \n",
       "\n",
       "         Sex   Age  SibSp  Parch              Ticket      Fare Cabin Embarked  \n",
       "0       male  22.0      1      0           A/5 21171    7.2500   NaN        S  \n",
       "1     female  38.0      1      0            PC 17599   71.2833   C85        C  \n",
       "2     female  26.0      0      0    STON/O2. 3101282    7.9250   NaN        S  \n",
       "3     female  35.0      1      0              113803   53.1000  C123        S  \n",
       "4       male  35.0      0      0              373450    8.0500   NaN        S  \n",
       "...      ...   ...    ...    ...                 ...       ...   ...      ...  \n",
       "1304    male   NaN      0      0           A.5. 3236    8.0500   NaN        S  \n",
       "1305  female  39.0      0      0            PC 17758  108.9000  C105        C  \n",
       "1306    male  38.5      0      0  SOTON/O.Q. 3101262    7.2500   NaN        S  \n",
       "1307    male   NaN      0      0              359309    8.0500   NaN        S  \n",
       "1308    male   NaN      1      1                2668   22.3583   NaN        C  \n",
       "\n",
       "[1309 rows x 11 columns]>"
      ]
     },
     "execution_count": 4,
     "metadata": {},
     "output_type": "execute_result"
    }
   ],
   "source": [
    "full_data.head"
   ]
  },
  {
   "cell_type": "code",
   "execution_count": 5,
   "id": "80eb4914",
   "metadata": {
    "execution": {
     "iopub.execute_input": "2025-01-31T15:25:11.902526Z",
     "iopub.status.busy": "2025-01-31T15:25:11.902140Z",
     "iopub.status.idle": "2025-01-31T15:25:11.932013Z",
     "shell.execute_reply": "2025-01-31T15:25:11.930867Z"
    },
    "papermill": {
     "duration": 0.04061,
     "end_time": "2025-01-31T15:25:11.933656",
     "exception": false,
     "start_time": "2025-01-31T15:25:11.893046",
     "status": "completed"
    },
    "tags": []
   },
   "outputs": [
    {
     "data": {
      "text/html": [
       "<div>\n",
       "<style scoped>\n",
       "    .dataframe tbody tr th:only-of-type {\n",
       "        vertical-align: middle;\n",
       "    }\n",
       "\n",
       "    .dataframe tbody tr th {\n",
       "        vertical-align: top;\n",
       "    }\n",
       "\n",
       "    .dataframe thead th {\n",
       "        text-align: right;\n",
       "    }\n",
       "</style>\n",
       "<table border=\"1\" class=\"dataframe\">\n",
       "  <thead>\n",
       "    <tr style=\"text-align: right;\">\n",
       "      <th></th>\n",
       "      <th>Survived</th>\n",
       "      <th>Pclass</th>\n",
       "      <th>Age</th>\n",
       "      <th>SibSp</th>\n",
       "      <th>Parch</th>\n",
       "      <th>Fare</th>\n",
       "    </tr>\n",
       "  </thead>\n",
       "  <tbody>\n",
       "    <tr>\n",
       "      <th>count</th>\n",
       "      <td>891.000000</td>\n",
       "      <td>1309.000000</td>\n",
       "      <td>1046.000000</td>\n",
       "      <td>1309.000000</td>\n",
       "      <td>1309.000000</td>\n",
       "      <td>1308.000000</td>\n",
       "    </tr>\n",
       "    <tr>\n",
       "      <th>mean</th>\n",
       "      <td>0.383838</td>\n",
       "      <td>2.294882</td>\n",
       "      <td>29.881138</td>\n",
       "      <td>0.498854</td>\n",
       "      <td>0.385027</td>\n",
       "      <td>33.295479</td>\n",
       "    </tr>\n",
       "    <tr>\n",
       "      <th>std</th>\n",
       "      <td>0.486592</td>\n",
       "      <td>0.837836</td>\n",
       "      <td>14.413493</td>\n",
       "      <td>1.041658</td>\n",
       "      <td>0.865560</td>\n",
       "      <td>51.758668</td>\n",
       "    </tr>\n",
       "    <tr>\n",
       "      <th>min</th>\n",
       "      <td>0.000000</td>\n",
       "      <td>1.000000</td>\n",
       "      <td>0.170000</td>\n",
       "      <td>0.000000</td>\n",
       "      <td>0.000000</td>\n",
       "      <td>0.000000</td>\n",
       "    </tr>\n",
       "    <tr>\n",
       "      <th>25%</th>\n",
       "      <td>0.000000</td>\n",
       "      <td>2.000000</td>\n",
       "      <td>21.000000</td>\n",
       "      <td>0.000000</td>\n",
       "      <td>0.000000</td>\n",
       "      <td>7.895800</td>\n",
       "    </tr>\n",
       "    <tr>\n",
       "      <th>50%</th>\n",
       "      <td>0.000000</td>\n",
       "      <td>3.000000</td>\n",
       "      <td>28.000000</td>\n",
       "      <td>0.000000</td>\n",
       "      <td>0.000000</td>\n",
       "      <td>14.454200</td>\n",
       "    </tr>\n",
       "    <tr>\n",
       "      <th>75%</th>\n",
       "      <td>1.000000</td>\n",
       "      <td>3.000000</td>\n",
       "      <td>39.000000</td>\n",
       "      <td>1.000000</td>\n",
       "      <td>0.000000</td>\n",
       "      <td>31.275000</td>\n",
       "    </tr>\n",
       "    <tr>\n",
       "      <th>max</th>\n",
       "      <td>1.000000</td>\n",
       "      <td>3.000000</td>\n",
       "      <td>80.000000</td>\n",
       "      <td>8.000000</td>\n",
       "      <td>9.000000</td>\n",
       "      <td>512.329200</td>\n",
       "    </tr>\n",
       "  </tbody>\n",
       "</table>\n",
       "</div>"
      ],
      "text/plain": [
       "         Survived       Pclass          Age        SibSp        Parch  \\\n",
       "count  891.000000  1309.000000  1046.000000  1309.000000  1309.000000   \n",
       "mean     0.383838     2.294882    29.881138     0.498854     0.385027   \n",
       "std      0.486592     0.837836    14.413493     1.041658     0.865560   \n",
       "min      0.000000     1.000000     0.170000     0.000000     0.000000   \n",
       "25%      0.000000     2.000000    21.000000     0.000000     0.000000   \n",
       "50%      0.000000     3.000000    28.000000     0.000000     0.000000   \n",
       "75%      1.000000     3.000000    39.000000     1.000000     0.000000   \n",
       "max      1.000000     3.000000    80.000000     8.000000     9.000000   \n",
       "\n",
       "              Fare  \n",
       "count  1308.000000  \n",
       "mean     33.295479  \n",
       "std      51.758668  \n",
       "min       0.000000  \n",
       "25%       7.895800  \n",
       "50%      14.454200  \n",
       "75%      31.275000  \n",
       "max     512.329200  "
      ]
     },
     "execution_count": 5,
     "metadata": {},
     "output_type": "execute_result"
    }
   ],
   "source": [
    "full_data.describe()"
   ]
  },
  {
   "cell_type": "code",
   "execution_count": 6,
   "id": "e66682bf",
   "metadata": {
    "execution": {
     "iopub.execute_input": "2025-01-31T15:25:11.951567Z",
     "iopub.status.busy": "2025-01-31T15:25:11.951214Z",
     "iopub.status.idle": "2025-01-31T15:25:11.956456Z",
     "shell.execute_reply": "2025-01-31T15:25:11.955299Z"
    },
    "papermill": {
     "duration": 0.01616,
     "end_time": "2025-01-31T15:25:11.958017",
     "exception": false,
     "start_time": "2025-01-31T15:25:11.941857",
     "status": "completed"
    },
    "tags": []
   },
   "outputs": [
    {
     "name": "stdout",
     "output_type": "stream",
     "text": [
      "['Survived' 'Pclass' 'Name' 'Sex' 'Age' 'SibSp' 'Parch' 'Ticket' 'Fare'\n",
      " 'Cabin' 'Embarked']\n"
     ]
    }
   ],
   "source": [
    "print(full_data.columns.values)"
   ]
  },
  {
   "cell_type": "markdown",
   "id": "0e527e0d",
   "metadata": {
    "papermill": {
     "duration": 0.008142,
     "end_time": "2025-01-31T15:25:11.974905",
     "exception": false,
     "start_time": "2025-01-31T15:25:11.966763",
     "status": "completed"
    },
    "tags": []
   },
   "source": [
    "# ***Data Analysis***"
   ]
  },
  {
   "cell_type": "code",
   "execution_count": 7,
   "id": "8ff239c9",
   "metadata": {
    "execution": {
     "iopub.execute_input": "2025-01-31T15:25:11.992380Z",
     "iopub.status.busy": "2025-01-31T15:25:11.992023Z",
     "iopub.status.idle": "2025-01-31T15:25:12.499132Z",
     "shell.execute_reply": "2025-01-31T15:25:12.497912Z"
    },
    "papermill": {
     "duration": 0.517954,
     "end_time": "2025-01-31T15:25:12.500855",
     "exception": false,
     "start_time": "2025-01-31T15:25:11.982901",
     "status": "completed"
    },
    "tags": []
   },
   "outputs": [
    {
     "data": {
      "image/png": "[encoded data removed]",
      "text/plain": [
       "<Figure size 1000x1000 with 2 Axes>"
      ]
     },
     "metadata": {},
     "output_type": "display_data"
    }
   ],
   "source": [
    "sns.set(font_scale=1.1)\n",
    "correlation_train = train.select_dtypes(include=['number']).corr()\n",
    "plt.figure(figsize=(10, 10))\n",
    "sns.heatmap(correlation_train,\n",
    "            annot=True,\n",
    "            fmt='.01f',\n",
    "            cmap='coolwarm',\n",
    "            square=True,\n",
    "            linewidths=1,\n",
    "            cbar=True)\n",
    "\n",
    "plt.show()"
   ]
  },
  {
   "cell_type": "code",
   "execution_count": 8,
   "id": "dc2c4e31",
   "metadata": {
    "execution": {
     "iopub.execute_input": "2025-01-31T15:25:12.521632Z",
     "iopub.status.busy": "2025-01-31T15:25:12.521223Z",
     "iopub.status.idle": "2025-01-31T15:25:12.528159Z",
     "shell.execute_reply": "2025-01-31T15:25:12.527100Z"
    },
    "papermill": {
     "duration": 0.018893,
     "end_time": "2025-01-31T15:25:12.529792",
     "exception": false,
     "start_time": "2025-01-31T15:25:12.510899",
     "status": "completed"
    },
    "tags": []
   },
   "outputs": [
    {
     "data": {
      "text/plain": [
       "Survived      int64\n",
       "Pclass        int64\n",
       "Name         object\n",
       "Sex          object\n",
       "Age         float64\n",
       "SibSp         int64\n",
       "Parch         int64\n",
       "Ticket       object\n",
       "Fare        float64\n",
       "Cabin        object\n",
       "Embarked     object\n",
       "dtype: object"
      ]
     },
     "execution_count": 8,
     "metadata": {},
     "output_type": "execute_result"
    }
   ],
   "source": [
    "train.dtypes"
   ]
  },
  {
   "cell_type": "markdown",
   "id": "d880fab4",
   "metadata": {
    "papermill": {
     "duration": 0.008997,
     "end_time": "2025-01-31T15:25:12.548379",
     "exception": false,
     "start_time": "2025-01-31T15:25:12.539382",
     "status": "completed"
    },
    "tags": []
   },
   "source": [
    "## Analysis of pearson correlation\n",
    "* Survival is correlated to fare and class. Currently, important factors such as sex are not numerical. They are \"M\" and \"F\", not 0 and 1 so we will do these in the feature engineering section."
   ]
  },
  {
   "cell_type": "markdown",
   "id": "89947151",
   "metadata": {
    "papermill": {
     "duration": 0.00902,
     "end_time": "2025-01-31T15:25:12.566656",
     "exception": false,
     "start_time": "2025-01-31T15:25:12.557636",
     "status": "completed"
    },
    "tags": []
   },
   "source": [
    "## Missing Data"
   ]
  },
  {
   "cell_type": "code",
   "execution_count": 9,
   "id": "edba41e0",
   "metadata": {
    "execution": {
     "iopub.execute_input": "2025-01-31T15:25:12.586521Z",
     "iopub.status.busy": "2025-01-31T15:25:12.586140Z",
     "iopub.status.idle": "2025-01-31T15:25:12.591726Z",
     "shell.execute_reply": "2025-01-31T15:25:12.590449Z"
    },
    "papermill": {
     "duration": 0.017608,
     "end_time": "2025-01-31T15:25:12.593389",
     "exception": false,
     "start_time": "2025-01-31T15:25:12.575781",
     "status": "completed"
    },
    "tags": []
   },
   "outputs": [],
   "source": [
    "def missing_percentage(df):\n",
    "    total = df.isnull().sum().sort_values(ascending=False)\n",
    "    percent = (df.isnull().sum().sort_values(ascending=False) / len(df) * 100)\n",
    "    return pd.concat([total, percent], axis=1, keys=['Total', 'Percent'])"
   ]
  },
  {
   "cell_type": "code",
   "execution_count": 10,
   "id": "f80fe2cf",
   "metadata": {
    "execution": {
     "iopub.execute_input": "2025-01-31T15:25:12.613479Z",
     "iopub.status.busy": "2025-01-31T15:25:12.613104Z",
     "iopub.status.idle": "2025-01-31T15:25:13.046974Z",
     "shell.execute_reply": "2025-01-31T15:25:13.045801Z"
    },
    "papermill": {
     "duration": 0.445983,
     "end_time": "2025-01-31T15:25:13.048804",
     "exception": false,
     "start_time": "2025-01-31T15:25:12.602821",
     "status": "completed"
    },
    "tags": []
   },
   "outputs": [
    {
     "data": {
      "text/html": [
       "<style type=\"text/css\">\n",
       "#T_e1c0c_row0_col0, #T_e1c0c_row1_col0 {\n",
       "  background-color: #67000d;\n",
       "  color: #f1f1f1;\n",
       "}\n",
       "#T_e1c0c_row0_col1, #T_e1c0c_row1_col1 {\n",
       "  background-color: #fcb99f;\n",
       "  color: #000000;\n",
       "}\n",
       "#T_e1c0c_row0_col2, #T_e1c0c_row0_col3, #T_e1c0c_row0_col4, #T_e1c0c_row0_col5, #T_e1c0c_row0_col6, #T_e1c0c_row0_col7, #T_e1c0c_row0_col8, #T_e1c0c_row0_col9, #T_e1c0c_row0_col10, #T_e1c0c_row1_col2, #T_e1c0c_row1_col3, #T_e1c0c_row1_col4, #T_e1c0c_row1_col5, #T_e1c0c_row1_col6, #T_e1c0c_row1_col7, #T_e1c0c_row1_col8, #T_e1c0c_row1_col9, #T_e1c0c_row1_col10 {\n",
       "  background-color: #fff5f0;\n",
       "  color: #000000;\n",
       "}\n",
       "</style>\n",
       "<table id=\"T_e1c0c\">\n",
       "  <thead>\n",
       "    <tr>\n",
       "      <th class=\"blank level0\" >&nbsp;</th>\n",
       "      <th id=\"T_e1c0c_level0_col0\" class=\"col_heading level0 col0\" >Cabin</th>\n",
       "      <th id=\"T_e1c0c_level0_col1\" class=\"col_heading level0 col1\" >Age</th>\n",
       "      <th id=\"T_e1c0c_level0_col2\" class=\"col_heading level0 col2\" >Embarked</th>\n",
       "      <th id=\"T_e1c0c_level0_col3\" class=\"col_heading level0 col3\" >Survived</th>\n",
       "      <th id=\"T_e1c0c_level0_col4\" class=\"col_heading level0 col4\" >Pclass</th>\n",
       "      <th id=\"T_e1c0c_level0_col5\" class=\"col_heading level0 col5\" >Name</th>\n",
       "      <th id=\"T_e1c0c_level0_col6\" class=\"col_heading level0 col6\" >Sex</th>\n",
       "      <th id=\"T_e1c0c_level0_col7\" class=\"col_heading level0 col7\" >SibSp</th>\n",
       "      <th id=\"T_e1c0c_level0_col8\" class=\"col_heading level0 col8\" >Parch</th>\n",
       "      <th id=\"T_e1c0c_level0_col9\" class=\"col_heading level0 col9\" >Ticket</th>\n",
       "      <th id=\"T_e1c0c_level0_col10\" class=\"col_heading level0 col10\" >Fare</th>\n",
       "    </tr>\n",
       "  </thead>\n",
       "  <tbody>\n",
       "    <tr>\n",
       "      <th id=\"T_e1c0c_level0_row0\" class=\"row_heading level0 row0\" >Total</th>\n",
       "      <td id=\"T_e1c0c_row0_col0\" class=\"data row0 col0\" >687.000000</td>\n",
       "      <td id=\"T_e1c0c_row0_col1\" class=\"data row0 col1\" >177.000000</td>\n",
       "      <td id=\"T_e1c0c_row0_col2\" class=\"data row0 col2\" >2.000000</td>\n",
       "      <td id=\"T_e1c0c_row0_col3\" class=\"data row0 col3\" >0.000000</td>\n",
       "      <td id=\"T_e1c0c_row0_col4\" class=\"data row0 col4\" >0.000000</td>\n",
       "      <td id=\"T_e1c0c_row0_col5\" class=\"data row0 col5\" >0.000000</td>\n",
       "      <td id=\"T_e1c0c_row0_col6\" class=\"data row0 col6\" >0.000000</td>\n",
       "      <td id=\"T_e1c0c_row0_col7\" class=\"data row0 col7\" >0.000000</td>\n",
       "      <td id=\"T_e1c0c_row0_col8\" class=\"data row0 col8\" >0.000000</td>\n",
       "      <td id=\"T_e1c0c_row0_col9\" class=\"data row0 col9\" >0.000000</td>\n",
       "      <td id=\"T_e1c0c_row0_col10\" class=\"data row0 col10\" >0.000000</td>\n",
       "    </tr>\n",
       "    <tr>\n",
       "      <th id=\"T_e1c0c_level0_row1\" class=\"row_heading level0 row1\" >Percent</th>\n",
       "      <td id=\"T_e1c0c_row1_col0\" class=\"data row1 col0\" >77.104377</td>\n",
       "      <td id=\"T_e1c0c_row1_col1\" class=\"data row1 col1\" >19.865320</td>\n",
       "      <td id=\"T_e1c0c_row1_col2\" class=\"data row1 col2\" >0.224467</td>\n",
       "      <td id=\"T_e1c0c_row1_col3\" class=\"data row1 col3\" >0.000000</td>\n",
       "      <td id=\"T_e1c0c_row1_col4\" class=\"data row1 col4\" >0.000000</td>\n",
       "      <td id=\"T_e1c0c_row1_col5\" class=\"data row1 col5\" >0.000000</td>\n",
       "      <td id=\"T_e1c0c_row1_col6\" class=\"data row1 col6\" >0.000000</td>\n",
       "      <td id=\"T_e1c0c_row1_col7\" class=\"data row1 col7\" >0.000000</td>\n",
       "      <td id=\"T_e1c0c_row1_col8\" class=\"data row1 col8\" >0.000000</td>\n",
       "      <td id=\"T_e1c0c_row1_col9\" class=\"data row1 col9\" >0.000000</td>\n",
       "      <td id=\"T_e1c0c_row1_col10\" class=\"data row1 col10\" >0.000000</td>\n",
       "    </tr>\n",
       "  </tbody>\n",
       "</table>\n"
      ],
      "text/plain": [
       "<pandas.io.formats.style.Styler at 0x7fedc8e53be0>"
      ]
     },
     "metadata": {},
     "output_type": "display_data"
    },
    {
     "data": {
      "image/png": "[encoded data removed]",
      "text/plain": [
       "<Figure size 2000x500 with 1 Axes>"
      ]
     },
     "metadata": {},
     "output_type": "display_data"
    }
   ],
   "source": [
    "missing = missing_percentage(train)\n",
    "\n",
    "fig, ax = plt.subplots(figsize=(20, 5))\n",
    "sns.barplot(x=missing.index, y='Percent', data=missing, palette='Reds_r')\n",
    "plt.xticks(rotation=90)\n",
    "\n",
    "display(missing.T.style.background_gradient(cmap='Reds', axis=1))"
   ]
  },
  {
   "cell_type": "code",
   "execution_count": 11,
   "id": "31ac1704",
   "metadata": {
    "execution": {
     "iopub.execute_input": "2025-01-31T15:25:13.071601Z",
     "iopub.status.busy": "2025-01-31T15:25:13.071225Z",
     "iopub.status.idle": "2025-01-31T15:25:13.292575Z",
     "shell.execute_reply": "2025-01-31T15:25:13.291500Z"
    },
    "papermill": {
     "duration": 0.235072,
     "end_time": "2025-01-31T15:25:13.294628",
     "exception": false,
     "start_time": "2025-01-31T15:25:13.059556",
     "status": "completed"
    },
    "tags": []
   },
   "outputs": [
    {
     "data": {
      "text/plain": [
       "<Axes: xlabel='Pclass', ylabel='Age'>"
      ]
     },
     "execution_count": 11,
     "metadata": {},
     "output_type": "execute_result"
    },
    {
     "data": {
      "image/png": "[encoded data removed]",
      "text/plain": [
       "<Figure size 640x480 with 1 Axes>"
      ]
     },
     "metadata": {},
     "output_type": "display_data"
    }
   ],
   "source": [
    "sns.boxplot(x='Pclass',y='Age',data=train)"
   ]
  },
  {
   "cell_type": "markdown",
   "id": "cac86b3e",
   "metadata": {
    "papermill": {
     "duration": 0.010257,
     "end_time": "2025-01-31T15:25:13.315794",
     "exception": false,
     "start_time": "2025-01-31T15:25:13.305537",
     "status": "completed"
    },
    "tags": []
   },
   "source": [
    "* Since 'Age' and 'Pclass' are correlated, we can fill the missing values in 'Age' with the mean age corresponding to each 'Pclass'."
   ]
  },
  {
   "cell_type": "code",
   "execution_count": 12,
   "id": "02798ac5",
   "metadata": {
    "execution": {
     "iopub.execute_input": "2025-01-31T15:25:13.338260Z",
     "iopub.status.busy": "2025-01-31T15:25:13.337834Z",
     "iopub.status.idle": "2025-01-31T15:25:13.347250Z",
     "shell.execute_reply": "2025-01-31T15:25:13.346085Z"
    },
    "papermill": {
     "duration": 0.023123,
     "end_time": "2025-01-31T15:25:13.349430",
     "exception": false,
     "start_time": "2025-01-31T15:25:13.326307",
     "status": "completed"
    },
    "tags": []
   },
   "outputs": [
    {
     "name": "stdout",
     "output_type": "stream",
     "text": [
      "\n",
      "Mean Age by Pclass:\n",
      "Pclass\n",
      "1    39.159930\n",
      "2    29.506705\n",
      "3    24.816367\n",
      "Name: Age, dtype: float64\n"
     ]
    }
   ],
   "source": [
    "mean_age_by_pclass = full_data.groupby('Pclass')['Age'].mean()\n",
    "print(\"\\nMean Age by Pclass:\")\n",
    "print(mean_age_by_pclass)"
   ]
  },
  {
   "cell_type": "code",
   "execution_count": 13,
   "id": "e4b6b9ed",
   "metadata": {
    "execution": {
     "iopub.execute_input": "2025-01-31T15:25:13.373223Z",
     "iopub.status.busy": "2025-01-31T15:25:13.372803Z",
     "iopub.status.idle": "2025-01-31T15:25:13.381964Z",
     "shell.execute_reply": "2025-01-31T15:25:13.380967Z"
    },
    "papermill": {
     "duration": 0.022432,
     "end_time": "2025-01-31T15:25:13.383632",
     "exception": false,
     "start_time": "2025-01-31T15:25:13.361200",
     "status": "completed"
    },
    "tags": []
   },
   "outputs": [
    {
     "name": "stdout",
     "output_type": "stream",
     "text": [
      "\n",
      "After filling missing values, number of missing 'Age' values:\n",
      "0\n"
     ]
    }
   ],
   "source": [
    "def fill_missing_age(df):\n",
    "    mean_age_by_pclass = df.groupby('Pclass')['Age'].transform('mean')\n",
    "    \n",
    "    df['Age'] = df['Age'].fillna(mean_age_by_pclass)\n",
    "    \n",
    "    return df\n",
    "\n",
    "full_data = fill_missing_age(full_data)\n",
    "\n",
    "print(\"\\nAfter filling missing values, number of missing 'Age' values:\")\n",
    "print(full_data['Age'].isnull().sum())"
   ]
  },
  {
   "cell_type": "markdown",
   "id": "c483e301",
   "metadata": {
    "papermill": {
     "duration": 0.010699,
     "end_time": "2025-01-31T15:25:13.405299",
     "exception": false,
     "start_time": "2025-01-31T15:25:13.394600",
     "status": "completed"
    },
    "tags": []
   },
   "source": [
    "* Why would \"Embarked\" be missing? There's no apparent reason, so let's impute with the most common, \"S\"."
   ]
  },
  {
   "cell_type": "code",
   "execution_count": 14,
   "id": "110d90e5",
   "metadata": {
    "execution": {
     "iopub.execute_input": "2025-01-31T15:25:13.428489Z",
     "iopub.status.busy": "2025-01-31T15:25:13.428127Z",
     "iopub.status.idle": "2025-01-31T15:25:13.434061Z",
     "shell.execute_reply": "2025-01-31T15:25:13.433125Z"
    },
    "papermill": {
     "duration": 0.019294,
     "end_time": "2025-01-31T15:25:13.435549",
     "exception": false,
     "start_time": "2025-01-31T15:25:13.416255",
     "status": "completed"
    },
    "tags": []
   },
   "outputs": [
    {
     "name": "stdout",
     "output_type": "stream",
     "text": [
      "Most common value in 'Embarked': S\n"
     ]
    }
   ],
   "source": [
    "most_common_embarked = full_data['Embarked'].mode()[0]\n",
    "print(\"Most common value in 'Embarked':\", most_common_embarked)"
   ]
  },
  {
   "cell_type": "code",
   "execution_count": 15,
   "id": "a9ef494c",
   "metadata": {
    "execution": {
     "iopub.execute_input": "2025-01-31T15:25:13.458685Z",
     "iopub.status.busy": "2025-01-31T15:25:13.458326Z",
     "iopub.status.idle": "2025-01-31T15:25:13.465074Z",
     "shell.execute_reply": "2025-01-31T15:25:13.463823Z"
    },
    "papermill": {
     "duration": 0.020321,
     "end_time": "2025-01-31T15:25:13.466729",
     "exception": false,
     "start_time": "2025-01-31T15:25:13.446408",
     "status": "completed"
    },
    "tags": []
   },
   "outputs": [
    {
     "name": "stdout",
     "output_type": "stream",
     "text": [
      "\n",
      "After filling missing 'Embarked' values, number of missing 'Embarked' values:\n",
      "0\n"
     ]
    }
   ],
   "source": [
    "full_data['Embarked'].fillna(most_common_embarked, inplace=True)\n",
    "\n",
    "print(\"\\nAfter filling missing 'Embarked' values, number of missing 'Embarked' values:\")\n",
    "print(full_data['Embarked'].isnull().sum())"
   ]
  },
  {
   "cell_type": "markdown",
   "id": "b6fd829e",
   "metadata": {
    "papermill": {
     "duration": 0.010611,
     "end_time": "2025-01-31T15:25:13.488574",
     "exception": false,
     "start_time": "2025-01-31T15:25:13.477963",
     "status": "completed"
    },
    "tags": []
   },
   "source": [
    "Now we are left with Cabin column.\n",
    "I'm assuming that if there is no cabin number, then they don't have a cabin. \n",
    "So, I will replace Cabin with HasCabin in Feature Engineering part, that says whether they have a cabin or not."
   ]
  },
  {
   "cell_type": "code",
   "execution_count": 16,
   "id": "61638667",
   "metadata": {
    "execution": {
     "iopub.execute_input": "2025-01-31T15:25:13.511518Z",
     "iopub.status.busy": "2025-01-31T15:25:13.511104Z",
     "iopub.status.idle": "2025-01-31T15:25:13.516238Z",
     "shell.execute_reply": "2025-01-31T15:25:13.515197Z"
    },
    "papermill": {
     "duration": 0.018379,
     "end_time": "2025-01-31T15:25:13.517769",
     "exception": false,
     "start_time": "2025-01-31T15:25:13.499390",
     "status": "completed"
    },
    "tags": []
   },
   "outputs": [],
   "source": [
    "full_data['Fare'].fillna(train['Fare'].median(), inplace=True)"
   ]
  },
  {
   "cell_type": "code",
   "execution_count": 17,
   "id": "6fcb8d57",
   "metadata": {
    "execution": {
     "iopub.execute_input": "2025-01-31T15:25:13.541115Z",
     "iopub.status.busy": "2025-01-31T15:25:13.540743Z",
     "iopub.status.idle": "2025-01-31T15:25:13.548584Z",
     "shell.execute_reply": "2025-01-31T15:25:13.547630Z"
    },
    "papermill": {
     "duration": 0.021371,
     "end_time": "2025-01-31T15:25:13.550134",
     "exception": false,
     "start_time": "2025-01-31T15:25:13.528763",
     "status": "completed"
    },
    "tags": []
   },
   "outputs": [
    {
     "data": {
      "text/plain": [
       "Survived     418\n",
       "Pclass         0\n",
       "Name           0\n",
       "Sex            0\n",
       "Age            0\n",
       "SibSp          0\n",
       "Parch          0\n",
       "Ticket         0\n",
       "Fare           0\n",
       "Cabin       1014\n",
       "Embarked       0\n",
       "dtype: int64"
      ]
     },
     "execution_count": 17,
     "metadata": {},
     "output_type": "execute_result"
    }
   ],
   "source": [
    "full_data.isnull().sum()"
   ]
  },
  {
   "cell_type": "markdown",
   "id": "67892710",
   "metadata": {
    "papermill": {
     "duration": 0.010876,
     "end_time": "2025-01-31T15:25:13.572137",
     "exception": false,
     "start_time": "2025-01-31T15:25:13.561261",
     "status": "completed"
    },
    "tags": []
   },
   "source": [
    "# ***Feature Engineering***"
   ]
  },
  {
   "cell_type": "markdown",
   "id": "76654fd7",
   "metadata": {
    "papermill": {
     "duration": 0.01088,
     "end_time": "2025-01-31T15:25:13.594190",
     "exception": false,
     "start_time": "2025-01-31T15:25:13.583310",
     "status": "completed"
    },
    "tags": []
   },
   "source": [
    "* New features"
   ]
  },
  {
   "cell_type": "code",
   "execution_count": 18,
   "id": "8bd63137",
   "metadata": {
    "execution": {
     "iopub.execute_input": "2025-01-31T15:25:13.618513Z",
     "iopub.status.busy": "2025-01-31T15:25:13.618161Z",
     "iopub.status.idle": "2025-01-31T15:25:13.628407Z",
     "shell.execute_reply": "2025-01-31T15:25:13.627411Z"
    },
    "papermill": {
     "duration": 0.024876,
     "end_time": "2025-01-31T15:25:13.630137",
     "exception": false,
     "start_time": "2025-01-31T15:25:13.605261",
     "status": "completed"
    },
    "tags": []
   },
   "outputs": [],
   "source": [
    "full_data['HasCabin'] = full_data['Cabin'].apply(lambda x: 0 if type(x) == float else 1)\n",
    "\n",
    "full_data['FamilySize'] = full_data['SibSp'] + full_data['Parch'] + 1\n",
    "\n",
    "full_data['IsAlone'] = 0\n",
    "full_data.loc[full_data['FamilySize'] == 1, 'IsAlone'] = 1"
   ]
  },
  {
   "cell_type": "code",
   "execution_count": 19,
   "id": "f4d3e9d3",
   "metadata": {
    "execution": {
     "iopub.execute_input": "2025-01-31T15:25:13.653826Z",
     "iopub.status.busy": "2025-01-31T15:25:13.653452Z",
     "iopub.status.idle": "2025-01-31T15:25:13.662359Z",
     "shell.execute_reply": "2025-01-31T15:25:13.661149Z"
    },
    "papermill": {
     "duration": 0.022582,
     "end_time": "2025-01-31T15:25:13.664039",
     "exception": false,
     "start_time": "2025-01-31T15:25:13.641457",
     "status": "completed"
    },
    "tags": []
   },
   "outputs": [
    {
     "data": {
      "text/plain": [
       "Survived       418\n",
       "Pclass           0\n",
       "Name             0\n",
       "Sex              0\n",
       "Age              0\n",
       "SibSp            0\n",
       "Parch            0\n",
       "Ticket           0\n",
       "Fare             0\n",
       "Cabin         1014\n",
       "Embarked         0\n",
       "HasCabin         0\n",
       "FamilySize       0\n",
       "IsAlone          0\n",
       "dtype: int64"
      ]
     },
     "execution_count": 19,
     "metadata": {},
     "output_type": "execute_result"
    }
   ],
   "source": [
    "full_data.isnull().sum()"
   ]
  },
  {
   "cell_type": "markdown",
   "id": "aa1cb68c",
   "metadata": {
    "papermill": {
     "duration": 0.010768,
     "end_time": "2025-01-31T15:25:13.686251",
     "exception": false,
     "start_time": "2025-01-31T15:25:13.675483",
     "status": "completed"
    },
    "tags": []
   },
   "source": [
    "* Mapping features"
   ]
  },
  {
   "cell_type": "code",
   "execution_count": 20,
   "id": "82ac7f09",
   "metadata": {
    "execution": {
     "iopub.execute_input": "2025-01-31T15:25:13.709842Z",
     "iopub.status.busy": "2025-01-31T15:25:13.709468Z",
     "iopub.status.idle": "2025-01-31T15:25:13.722065Z",
     "shell.execute_reply": "2025-01-31T15:25:13.721104Z"
    },
    "papermill": {
     "duration": 0.026154,
     "end_time": "2025-01-31T15:25:13.723587",
     "exception": false,
     "start_time": "2025-01-31T15:25:13.697433",
     "status": "completed"
    },
    "tags": []
   },
   "outputs": [],
   "source": [
    "full_data['Sex'] = full_data['Sex'].map({'female': 0, 'male': 1})\n",
    "\n",
    "full_data['Embarked'] = full_data['Embarked'].map({'S': 0, 'C': 1, 'Q': 2})\n",
    "\n",
    "full_data.loc[full_data['Fare'] < 7.896, 'Fare'] = 0\n",
    "full_data.loc[(full_data['Fare'] >= 7.896) & (full_data['Fare'] < 14.454), 'Fare'] = 1\n",
    "full_data.loc[(full_data['Fare'] >= 14.454) & (full_data['Fare'] < 31.275), 'Fare'] = 2\n",
    "full_data.loc[full_data['Fare'] >= 31.275, 'Fare'] = 3"
   ]
  },
  {
   "cell_type": "markdown",
   "id": "6dca0adf",
   "metadata": {
    "papermill": {
     "duration": 0.010774,
     "end_time": "2025-01-31T15:25:13.745667",
     "exception": false,
     "start_time": "2025-01-31T15:25:13.734893",
     "status": "completed"
    },
    "tags": []
   },
   "source": [
    "* Deleting: Name, Ticket and Cabin"
   ]
  },
  {
   "cell_type": "code",
   "execution_count": 21,
   "id": "0828055f",
   "metadata": {
    "execution": {
     "iopub.execute_input": "2025-01-31T15:25:13.769079Z",
     "iopub.status.busy": "2025-01-31T15:25:13.768698Z",
     "iopub.status.idle": "2025-01-31T15:25:13.776576Z",
     "shell.execute_reply": "2025-01-31T15:25:13.775680Z"
    },
    "papermill": {
     "duration": 0.021566,
     "end_time": "2025-01-31T15:25:13.778249",
     "exception": false,
     "start_time": "2025-01-31T15:25:13.756683",
     "status": "completed"
    },
    "tags": []
   },
   "outputs": [
    {
     "data": {
      "text/plain": [
       "Survived       418\n",
       "Pclass           0\n",
       "Name             0\n",
       "Sex              0\n",
       "Age              0\n",
       "SibSp            0\n",
       "Parch            0\n",
       "Ticket           0\n",
       "Fare             0\n",
       "Cabin         1014\n",
       "Embarked         0\n",
       "HasCabin         0\n",
       "FamilySize       0\n",
       "IsAlone          0\n",
       "dtype: int64"
      ]
     },
     "execution_count": 21,
     "metadata": {},
     "output_type": "execute_result"
    }
   ],
   "source": [
    "full_data.isnull().sum()"
   ]
  },
  {
   "cell_type": "code",
   "execution_count": 22,
   "id": "0e442d82",
   "metadata": {
    "execution": {
     "iopub.execute_input": "2025-01-31T15:25:13.803286Z",
     "iopub.status.busy": "2025-01-31T15:25:13.802887Z",
     "iopub.status.idle": "2025-01-31T15:25:13.818764Z",
     "shell.execute_reply": "2025-01-31T15:25:13.817750Z"
    },
    "papermill": {
     "duration": 0.030824,
     "end_time": "2025-01-31T15:25:13.820635",
     "exception": false,
     "start_time": "2025-01-31T15:25:13.789811",
     "status": "completed"
    },
    "tags": []
   },
   "outputs": [
    {
     "data": {
      "text/html": [
       "<div>\n",
       "<style scoped>\n",
       "    .dataframe tbody tr th:only-of-type {\n",
       "        vertical-align: middle;\n",
       "    }\n",
       "\n",
       "    .dataframe tbody tr th {\n",
       "        vertical-align: top;\n",
       "    }\n",
       "\n",
       "    .dataframe thead th {\n",
       "        text-align: right;\n",
       "    }\n",
       "</style>\n",
       "<table border=\"1\" class=\"dataframe\">\n",
       "  <thead>\n",
       "    <tr style=\"text-align: right;\">\n",
       "      <th></th>\n",
       "      <th>Survived</th>\n",
       "      <th>Pclass</th>\n",
       "      <th>Sex</th>\n",
       "      <th>Age</th>\n",
       "      <th>SibSp</th>\n",
       "      <th>Parch</th>\n",
       "      <th>Fare</th>\n",
       "      <th>Embarked</th>\n",
       "      <th>HasCabin</th>\n",
       "      <th>FamilySize</th>\n",
       "      <th>IsAlone</th>\n",
       "    </tr>\n",
       "  </thead>\n",
       "  <tbody>\n",
       "    <tr>\n",
       "      <th>0</th>\n",
       "      <td>0.0</td>\n",
       "      <td>3</td>\n",
       "      <td>1</td>\n",
       "      <td>22.000000</td>\n",
       "      <td>1</td>\n",
       "      <td>0</td>\n",
       "      <td>0.0</td>\n",
       "      <td>0</td>\n",
       "      <td>0</td>\n",
       "      <td>2</td>\n",
       "      <td>0</td>\n",
       "    </tr>\n",
       "    <tr>\n",
       "      <th>1</th>\n",
       "      <td>1.0</td>\n",
       "      <td>1</td>\n",
       "      <td>0</td>\n",
       "      <td>38.000000</td>\n",
       "      <td>1</td>\n",
       "      <td>0</td>\n",
       "      <td>3.0</td>\n",
       "      <td>1</td>\n",
       "      <td>1</td>\n",
       "      <td>2</td>\n",
       "      <td>0</td>\n",
       "    </tr>\n",
       "    <tr>\n",
       "      <th>2</th>\n",
       "      <td>1.0</td>\n",
       "      <td>3</td>\n",
       "      <td>0</td>\n",
       "      <td>26.000000</td>\n",
       "      <td>0</td>\n",
       "      <td>0</td>\n",
       "      <td>1.0</td>\n",
       "      <td>0</td>\n",
       "      <td>0</td>\n",
       "      <td>1</td>\n",
       "      <td>1</td>\n",
       "    </tr>\n",
       "    <tr>\n",
       "      <th>3</th>\n",
       "      <td>1.0</td>\n",
       "      <td>1</td>\n",
       "      <td>0</td>\n",
       "      <td>35.000000</td>\n",
       "      <td>1</td>\n",
       "      <td>0</td>\n",
       "      <td>3.0</td>\n",
       "      <td>0</td>\n",
       "      <td>1</td>\n",
       "      <td>2</td>\n",
       "      <td>0</td>\n",
       "    </tr>\n",
       "    <tr>\n",
       "      <th>4</th>\n",
       "      <td>0.0</td>\n",
       "      <td>3</td>\n",
       "      <td>1</td>\n",
       "      <td>35.000000</td>\n",
       "      <td>0</td>\n",
       "      <td>0</td>\n",
       "      <td>1.0</td>\n",
       "      <td>0</td>\n",
       "      <td>0</td>\n",
       "      <td>1</td>\n",
       "      <td>1</td>\n",
       "    </tr>\n",
       "    <tr>\n",
       "      <th>5</th>\n",
       "      <td>0.0</td>\n",
       "      <td>3</td>\n",
       "      <td>1</td>\n",
       "      <td>24.816367</td>\n",
       "      <td>0</td>\n",
       "      <td>0</td>\n",
       "      <td>1.0</td>\n",
       "      <td>2</td>\n",
       "      <td>0</td>\n",
       "      <td>1</td>\n",
       "      <td>1</td>\n",
       "    </tr>\n",
       "    <tr>\n",
       "      <th>6</th>\n",
       "      <td>0.0</td>\n",
       "      <td>1</td>\n",
       "      <td>1</td>\n",
       "      <td>54.000000</td>\n",
       "      <td>0</td>\n",
       "      <td>0</td>\n",
       "      <td>3.0</td>\n",
       "      <td>0</td>\n",
       "      <td>1</td>\n",
       "      <td>1</td>\n",
       "      <td>1</td>\n",
       "    </tr>\n",
       "    <tr>\n",
       "      <th>7</th>\n",
       "      <td>0.0</td>\n",
       "      <td>3</td>\n",
       "      <td>1</td>\n",
       "      <td>2.000000</td>\n",
       "      <td>3</td>\n",
       "      <td>1</td>\n",
       "      <td>2.0</td>\n",
       "      <td>0</td>\n",
       "      <td>0</td>\n",
       "      <td>5</td>\n",
       "      <td>0</td>\n",
       "    </tr>\n",
       "    <tr>\n",
       "      <th>8</th>\n",
       "      <td>1.0</td>\n",
       "      <td>3</td>\n",
       "      <td>0</td>\n",
       "      <td>27.000000</td>\n",
       "      <td>0</td>\n",
       "      <td>2</td>\n",
       "      <td>1.0</td>\n",
       "      <td>0</td>\n",
       "      <td>0</td>\n",
       "      <td>3</td>\n",
       "      <td>0</td>\n",
       "    </tr>\n",
       "    <tr>\n",
       "      <th>9</th>\n",
       "      <td>1.0</td>\n",
       "      <td>2</td>\n",
       "      <td>0</td>\n",
       "      <td>14.000000</td>\n",
       "      <td>1</td>\n",
       "      <td>0</td>\n",
       "      <td>2.0</td>\n",
       "      <td>1</td>\n",
       "      <td>0</td>\n",
       "      <td>2</td>\n",
       "      <td>0</td>\n",
       "    </tr>\n",
       "  </tbody>\n",
       "</table>\n",
       "</div>"
      ],
      "text/plain": [
       "   Survived  Pclass  Sex        Age  SibSp  Parch  Fare  Embarked  HasCabin  \\\n",
       "0       0.0       3    1  22.000000      1      0   0.0         0         0   \n",
       "1       1.0       1    0  38.000000      1      0   3.0         1         1   \n",
       "2       1.0       3    0  26.000000      0      0   1.0         0         0   \n",
       "3       1.0       1    0  35.000000      1      0   3.0         0         1   \n",
       "4       0.0       3    1  35.000000      0      0   1.0         0         0   \n",
       "5       0.0       3    1  24.816367      0      0   1.0         2         0   \n",
       "6       0.0       1    1  54.000000      0      0   3.0         0         1   \n",
       "7       0.0       3    1   2.000000      3      1   2.0         0         0   \n",
       "8       1.0       3    0  27.000000      0      2   1.0         0         0   \n",
       "9       1.0       2    0  14.000000      1      0   2.0         1         0   \n",
       "\n",
       "   FamilySize  IsAlone  \n",
       "0           2        0  \n",
       "1           2        0  \n",
       "2           1        1  \n",
       "3           2        0  \n",
       "4           1        1  \n",
       "5           1        1  \n",
       "6           1        1  \n",
       "7           5        0  \n",
       "8           3        0  \n",
       "9           2        0  "
      ]
     },
     "execution_count": 22,
     "metadata": {},
     "output_type": "execute_result"
    }
   ],
   "source": [
    "full_data.drop(columns=['Ticket', 'Cabin', 'Name'], inplace=True)\n",
    "full_data.head(10)"
   ]
  },
  {
   "cell_type": "code",
   "execution_count": 23,
   "id": "8f2eae24",
   "metadata": {
    "execution": {
     "iopub.execute_input": "2025-01-31T15:25:13.844969Z",
     "iopub.status.busy": "2025-01-31T15:25:13.844637Z",
     "iopub.status.idle": "2025-01-31T15:25:13.852879Z",
     "shell.execute_reply": "2025-01-31T15:25:13.851692Z"
    },
    "papermill": {
     "duration": 0.022416,
     "end_time": "2025-01-31T15:25:13.854700",
     "exception": false,
     "start_time": "2025-01-31T15:25:13.832284",
     "status": "completed"
    },
    "tags": []
   },
   "outputs": [
    {
     "data": {
      "text/plain": [
       "Survived      418\n",
       "Pclass          0\n",
       "Sex             0\n",
       "Age             0\n",
       "SibSp           0\n",
       "Parch           0\n",
       "Fare            0\n",
       "Embarked        0\n",
       "HasCabin        0\n",
       "FamilySize      0\n",
       "IsAlone         0\n",
       "dtype: int64"
      ]
     },
     "execution_count": 23,
     "metadata": {},
     "output_type": "execute_result"
    }
   ],
   "source": [
    "full_data.isnull().sum()"
   ]
  },
  {
   "cell_type": "markdown",
   "id": "ed5c8794",
   "metadata": {
    "papermill": {
     "duration": 0.011983,
     "end_time": "2025-01-31T15:25:13.878895",
     "exception": false,
     "start_time": "2025-01-31T15:25:13.866912",
     "status": "completed"
    },
    "tags": []
   },
   "source": [
    "# Final splitting and checking data"
   ]
  },
  {
   "cell_type": "code",
   "execution_count": 24,
   "id": "c8177648",
   "metadata": {
    "execution": {
     "iopub.execute_input": "2025-01-31T15:25:13.903607Z",
     "iopub.status.busy": "2025-01-31T15:25:13.903215Z",
     "iopub.status.idle": "2025-01-31T15:25:13.907954Z",
     "shell.execute_reply": "2025-01-31T15:25:13.907033Z"
    },
    "papermill": {
     "duration": 0.018963,
     "end_time": "2025-01-31T15:25:13.909607",
     "exception": false,
     "start_time": "2025-01-31T15:25:13.890644",
     "status": "completed"
    },
    "tags": []
   },
   "outputs": [],
   "source": [
    "train = full_data.iloc[:len(train), :]\n",
    "test = full_data.iloc[len(train):, :]"
   ]
  },
  {
   "cell_type": "code",
   "execution_count": 25,
   "id": "4bac8b16",
   "metadata": {
    "execution": {
     "iopub.execute_input": "2025-01-31T15:25:13.934170Z",
     "iopub.status.busy": "2025-01-31T15:25:13.933762Z",
     "iopub.status.idle": "2025-01-31T15:25:14.463097Z",
     "shell.execute_reply": "2025-01-31T15:25:14.461863Z"
    },
    "papermill": {
     "duration": 0.544978,
     "end_time": "2025-01-31T15:25:14.466370",
     "exception": false,
     "start_time": "2025-01-31T15:25:13.921392",
     "status": "completed"
    },
    "tags": []
   },
   "outputs": [
    {
     "data": {
      "image/png": "[encoded data removed]",
      "text/plain": [
       "<Figure size 1000x1000 with 1 Axes>"
      ]
     },
     "metadata": {},
     "output_type": "display_data"
    }
   ],
   "source": [
    "sns.set(font_scale=1.1)\n",
    "correlation_train = train.corr()\n",
    "mask = np.triu(correlation_train.corr())\n",
    "plt.figure(figsize=(10, 10))\n",
    "sns.heatmap(correlation_train,\n",
    "            annot=True,\n",
    "            fmt='.01f',\n",
    "            cmap='coolwarm',\n",
    "            square=True,\n",
    "            linewidths=1,\n",
    "            cbar=False)\n",
    "\n",
    "plt.show()"
   ]
  },
  {
   "cell_type": "markdown",
   "id": "eed2312a",
   "metadata": {
    "papermill": {
     "duration": 0.013814,
     "end_time": "2025-01-31T15:25:14.494742",
     "exception": false,
     "start_time": "2025-01-31T15:25:14.480928",
     "status": "completed"
    },
    "tags": []
   },
   "source": [
    "Analysis of pearson correlation\n",
    "* Sex is the largest determiner of survival.\n",
    "* Other than that, pclass, fare, cabin, and being alone have a high correlation. "
   ]
  },
  {
   "cell_type": "code",
   "execution_count": 26,
   "id": "6a7a4117",
   "metadata": {
    "execution": {
     "iopub.execute_input": "2025-01-31T15:25:14.523967Z",
     "iopub.status.busy": "2025-01-31T15:25:14.523627Z",
     "iopub.status.idle": "2025-01-31T15:25:14.541135Z",
     "shell.execute_reply": "2025-01-31T15:25:14.540084Z"
    },
    "papermill": {
     "duration": 0.03409,
     "end_time": "2025-01-31T15:25:14.542830",
     "exception": false,
     "start_time": "2025-01-31T15:25:14.508740",
     "status": "completed"
    },
    "tags": []
   },
   "outputs": [
    {
     "data": {
      "text/html": [
       "<style type=\"text/css\">\n",
       "#T_6930e_row0_col0, #T_6930e_row0_col1, #T_6930e_row0_col2, #T_6930e_row0_col3, #T_6930e_row0_col4, #T_6930e_row0_col5, #T_6930e_row0_col6, #T_6930e_row0_col7, #T_6930e_row0_col8, #T_6930e_row0_col9, #T_6930e_row0_col10, #T_6930e_row1_col0, #T_6930e_row1_col1, #T_6930e_row1_col2, #T_6930e_row1_col3, #T_6930e_row1_col4, #T_6930e_row1_col5, #T_6930e_row1_col6, #T_6930e_row1_col7, #T_6930e_row1_col8, #T_6930e_row1_col9, #T_6930e_row1_col10 {\n",
       "  background-color: #fff5f0;\n",
       "  color: #000000;\n",
       "}\n",
       "</style>\n",
       "<table id=\"T_6930e\">\n",
       "  <thead>\n",
       "    <tr>\n",
       "      <th class=\"blank level0\" >&nbsp;</th>\n",
       "      <th id=\"T_6930e_level0_col0\" class=\"col_heading level0 col0\" >Survived</th>\n",
       "      <th id=\"T_6930e_level0_col1\" class=\"col_heading level0 col1\" >Pclass</th>\n",
       "      <th id=\"T_6930e_level0_col2\" class=\"col_heading level0 col2\" >Sex</th>\n",
       "      <th id=\"T_6930e_level0_col3\" class=\"col_heading level0 col3\" >Age</th>\n",
       "      <th id=\"T_6930e_level0_col4\" class=\"col_heading level0 col4\" >SibSp</th>\n",
       "      <th id=\"T_6930e_level0_col5\" class=\"col_heading level0 col5\" >Parch</th>\n",
       "      <th id=\"T_6930e_level0_col6\" class=\"col_heading level0 col6\" >Fare</th>\n",
       "      <th id=\"T_6930e_level0_col7\" class=\"col_heading level0 col7\" >Embarked</th>\n",
       "      <th id=\"T_6930e_level0_col8\" class=\"col_heading level0 col8\" >HasCabin</th>\n",
       "      <th id=\"T_6930e_level0_col9\" class=\"col_heading level0 col9\" >FamilySize</th>\n",
       "      <th id=\"T_6930e_level0_col10\" class=\"col_heading level0 col10\" >IsAlone</th>\n",
       "    </tr>\n",
       "  </thead>\n",
       "  <tbody>\n",
       "    <tr>\n",
       "      <th id=\"T_6930e_level0_row0\" class=\"row_heading level0 row0\" >Total</th>\n",
       "      <td id=\"T_6930e_row0_col0\" class=\"data row0 col0\" >0.000000</td>\n",
       "      <td id=\"T_6930e_row0_col1\" class=\"data row0 col1\" >0.000000</td>\n",
       "      <td id=\"T_6930e_row0_col2\" class=\"data row0 col2\" >0.000000</td>\n",
       "      <td id=\"T_6930e_row0_col3\" class=\"data row0 col3\" >0.000000</td>\n",
       "      <td id=\"T_6930e_row0_col4\" class=\"data row0 col4\" >0.000000</td>\n",
       "      <td id=\"T_6930e_row0_col5\" class=\"data row0 col5\" >0.000000</td>\n",
       "      <td id=\"T_6930e_row0_col6\" class=\"data row0 col6\" >0.000000</td>\n",
       "      <td id=\"T_6930e_row0_col7\" class=\"data row0 col7\" >0.000000</td>\n",
       "      <td id=\"T_6930e_row0_col8\" class=\"data row0 col8\" >0.000000</td>\n",
       "      <td id=\"T_6930e_row0_col9\" class=\"data row0 col9\" >0.000000</td>\n",
       "      <td id=\"T_6930e_row0_col10\" class=\"data row0 col10\" >0.000000</td>\n",
       "    </tr>\n",
       "    <tr>\n",
       "      <th id=\"T_6930e_level0_row1\" class=\"row_heading level0 row1\" >Percent</th>\n",
       "      <td id=\"T_6930e_row1_col0\" class=\"data row1 col0\" >0.000000</td>\n",
       "      <td id=\"T_6930e_row1_col1\" class=\"data row1 col1\" >0.000000</td>\n",
       "      <td id=\"T_6930e_row1_col2\" class=\"data row1 col2\" >0.000000</td>\n",
       "      <td id=\"T_6930e_row1_col3\" class=\"data row1 col3\" >0.000000</td>\n",
       "      <td id=\"T_6930e_row1_col4\" class=\"data row1 col4\" >0.000000</td>\n",
       "      <td id=\"T_6930e_row1_col5\" class=\"data row1 col5\" >0.000000</td>\n",
       "      <td id=\"T_6930e_row1_col6\" class=\"data row1 col6\" >0.000000</td>\n",
       "      <td id=\"T_6930e_row1_col7\" class=\"data row1 col7\" >0.000000</td>\n",
       "      <td id=\"T_6930e_row1_col8\" class=\"data row1 col8\" >0.000000</td>\n",
       "      <td id=\"T_6930e_row1_col9\" class=\"data row1 col9\" >0.000000</td>\n",
       "      <td id=\"T_6930e_row1_col10\" class=\"data row1 col10\" >0.000000</td>\n",
       "    </tr>\n",
       "  </tbody>\n",
       "</table>\n"
      ],
      "text/plain": [
       "<pandas.io.formats.style.Styler at 0x7fedc74a4640>"
      ]
     },
     "metadata": {},
     "output_type": "display_data"
    }
   ],
   "source": [
    "missing = missing_percentage(train)\n",
    "\n",
    "display(missing.T.style.background_gradient(cmap='Reds', axis=1))"
   ]
  },
  {
   "cell_type": "code",
   "execution_count": 27,
   "id": "b38e98d7",
   "metadata": {
    "execution": {
     "iopub.execute_input": "2025-01-31T15:25:14.573527Z",
     "iopub.status.busy": "2025-01-31T15:25:14.573123Z",
     "iopub.status.idle": "2025-01-31T15:25:14.579855Z",
     "shell.execute_reply": "2025-01-31T15:25:14.578864Z"
    },
    "papermill": {
     "duration": 0.024079,
     "end_time": "2025-01-31T15:25:14.581461",
     "exception": false,
     "start_time": "2025-01-31T15:25:14.557382",
     "status": "completed"
    },
    "tags": []
   },
   "outputs": [],
   "source": [
    "train.drop(['Survived'], axis=1, inplace=True)\n",
    "test.drop(['Survived'], axis=1, inplace=True)"
   ]
  },
  {
   "cell_type": "markdown",
   "id": "924095aa",
   "metadata": {
    "papermill": {
     "duration": 0.01422,
     "end_time": "2025-01-31T15:25:14.610043",
     "exception": false,
     "start_time": "2025-01-31T15:25:14.595823",
     "status": "completed"
    },
    "tags": []
   },
   "source": [
    "# Model"
   ]
  },
  {
   "cell_type": "code",
   "execution_count": 28,
   "id": "378a761c",
   "metadata": {
    "execution": {
     "iopub.execute_input": "2025-01-31T15:25:14.649529Z",
     "iopub.status.busy": "2025-01-31T15:25:14.649163Z",
     "iopub.status.idle": "2025-01-31T15:25:14.812014Z",
     "shell.execute_reply": "2025-01-31T15:25:14.811087Z"
    },
    "papermill": {
     "duration": 0.18125,
     "end_time": "2025-01-31T15:25:14.814465",
     "exception": false,
     "start_time": "2025-01-31T15:25:14.633215",
     "status": "completed"
    },
    "tags": []
   },
   "outputs": [
    {
     "data": {
      "text/html": [
       "<style>#sk-container-id-1 {color: black;background-color: white;}#sk-container-id-1 pre{padding: 0;}#sk-container-id-1 div.sk-toggleable {background-color: white;}#sk-container-id-1 label.sk-toggleable__label {cursor: pointer;display: block;width: 100%;margin-bottom: 0;padding: 0.3em;box-sizing: border-box;text-align: center;}#sk-container-id-1 label.sk-toggleable__label-arrow:before {content: \"▸\";float: left;margin-right: 0.25em;color: #696969;}#sk-container-id-1 label.sk-toggleable__label-arrow:hover:before {color: black;}#sk-container-id-1 div.sk-estimator:hover label.sk-toggleable__label-arrow:before {color: black;}#sk-container-id-1 div.sk-toggleable__content {max-height: 0;max-width: 0;overflow: hidden;text-align: left;background-color: #f0f8ff;}#sk-container-id-1 div.sk-toggleable__content pre {margin: 0.2em;color: black;border-radius: 0.25em;background-color: #f0f8ff;}#sk-container-id-1 input.sk-toggleable__control:checked~div.sk-toggleable__content {max-height: 200px;max-width: 100%;overflow: auto;}#sk-container-id-1 input.sk-toggleable__control:checked~label.sk-toggleable__label-arrow:before {content: \"▾\";}#sk-container-id-1 div.sk-estimator input.sk-toggleable__control:checked~label.sk-toggleable__label {background-color: #d4ebff;}#sk-container-id-1 div.sk-label input.sk-toggleable__control:checked~label.sk-toggleable__label {background-color: #d4ebff;}#sk-container-id-1 input.sk-hidden--visually {border: 0;clip: rect(1px 1px 1px 1px);clip: rect(1px, 1px, 1px, 1px);height: 1px;margin: -1px;overflow: hidden;padding: 0;position: absolute;width: 1px;}#sk-container-id-1 div.sk-estimator {font-family: monospace;background-color: #f0f8ff;border: 1px dotted black;border-radius: 0.25em;box-sizing: border-box;margin-bottom: 0.5em;}#sk-container-id-1 div.sk-estimator:hover {background-color: #d4ebff;}#sk-container-id-1 div.sk-parallel-item::after {content: \"\";width: 100%;border-bottom: 1px solid gray;flex-grow: 1;}#sk-container-id-1 div.sk-label:hover label.sk-toggleable__label {background-color: #d4ebff;}#sk-container-id-1 div.sk-serial::before {content: \"\";position: absolute;border-left: 1px solid gray;box-sizing: border-box;top: 0;bottom: 0;left: 50%;z-index: 0;}#sk-container-id-1 div.sk-serial {display: flex;flex-direction: column;align-items: center;background-color: white;padding-right: 0.2em;padding-left: 0.2em;position: relative;}#sk-container-id-1 div.sk-item {position: relative;z-index: 1;}#sk-container-id-1 div.sk-parallel {display: flex;align-items: stretch;justify-content: center;background-color: white;position: relative;}#sk-container-id-1 div.sk-item::before, #sk-container-id-1 div.sk-parallel-item::before {content: \"\";position: absolute;border-left: 1px solid gray;box-sizing: border-box;top: 0;bottom: 0;left: 50%;z-index: -1;}#sk-container-id-1 div.sk-parallel-item {display: flex;flex-direction: column;z-index: 1;position: relative;background-color: white;}#sk-container-id-1 div.sk-parallel-item:first-child::after {align-self: flex-end;width: 50%;}#sk-container-id-1 div.sk-parallel-item:last-child::after {align-self: flex-start;width: 50%;}#sk-container-id-1 div.sk-parallel-item:only-child::after {width: 0;}#sk-container-id-1 div.sk-dashed-wrapped {border: 1px dashed gray;margin: 0 0.4em 0.5em 0.4em;box-sizing: border-box;padding-bottom: 0.4em;background-color: white;}#sk-container-id-1 div.sk-label label {font-family: monospace;font-weight: bold;display: inline-block;line-height: 1.2em;}#sk-container-id-1 div.sk-label-container {text-align: center;}#sk-container-id-1 div.sk-container {/* jupyter's `normalize.less` sets `[hidden] { display: none; }` but bootstrap.min.css set `[hidden] { display: none !important; }` so we also need the `!important` here to be able to override the default hidden behavior on the sphinx rendered scikit-learn.org. See: https://github.com/scikit-learn/scikit-learn/issues/21755 */display: inline-block !important;position: relative;}#sk-container-id-1 div.sk-text-repr-fallback {display: none;}</style><div id=\"sk-container-id-1\" class=\"sk-top-container\"><div class=\"sk-text-repr-fallback\"><pre>XGBClassifier(base_score=None, booster=None, callbacks=None,\n",
       "              colsample_bylevel=None, colsample_bynode=None,\n",
       "              colsample_bytree=None, device=None, early_stopping_rounds=None,\n",
       "              enable_categorical=False, eta=0.015, eval_metric=None,\n",
       "              feature_types=None, gamma=0.8, grow_policy=None,\n",
       "              importance_type=None, interaction_constraints=None,\n",
       "              learning_rate=0.008, max_bin=None, max_cat_threshold=None,\n",
       "              max_cat_to_onehot=None, max_delta_step=None, max_depth=None,\n",
       "              max_leaves=None, min_child_weight=None, missing=nan,\n",
       "              monotone_constraints=None, multi_strategy=None, n_estimators=200,\n",
       "              n_jobs=None, num_parallel_tree=None, ...)</pre><b>In a Jupyter environment, please rerun this cell to show the HTML representation or trust the notebook. <br />On GitHub, the HTML representation is unable to render, please try loading this page with nbviewer.org.</b></div><div class=\"sk-container\" hidden><div class=\"sk-item\"><div class=\"sk-estimator sk-toggleable\"><input class=\"sk-toggleable__control sk-hidden--visually\" id=\"sk-estimator-id-1\" type=\"checkbox\" checked><label for=\"sk-estimator-id-1\" class=\"sk-toggleable__label sk-toggleable__label-arrow\">XGBClassifier</label><div class=\"sk-toggleable__content\"><pre>XGBClassifier(base_score=None, booster=None, callbacks=None,\n",
       "              colsample_bylevel=None, colsample_bynode=None,\n",
       "              colsample_bytree=None, device=None, early_stopping_rounds=None,\n",
       "              enable_categorical=False, eta=0.015, eval_metric=None,\n",
       "              feature_types=None, gamma=0.8, grow_policy=None,\n",
       "              importance_type=None, interaction_constraints=None,\n",
       "              learning_rate=0.008, max_bin=None, max_cat_threshold=None,\n",
       "              max_cat_to_onehot=None, max_delta_step=None, max_depth=None,\n",
       "              max_leaves=None, min_child_weight=None, missing=nan,\n",
       "              monotone_constraints=None, multi_strategy=None, n_estimators=200,\n",
       "              n_jobs=None, num_parallel_tree=None, ...)</pre></div></div></div></div></div>"
      ],
      "text/plain": [
       "XGBClassifier(base_score=None, booster=None, callbacks=None,\n",
       "              colsample_bylevel=None, colsample_bynode=None,\n",
       "              colsample_bytree=None, device=None, early_stopping_rounds=None,\n",
       "              enable_categorical=False, eta=0.015, eval_metric=None,\n",
       "              feature_types=None, gamma=0.8, grow_policy=None,\n",
       "              importance_type=None, interaction_constraints=None,\n",
       "              learning_rate=0.008, max_bin=None, max_cat_threshold=None,\n",
       "              max_cat_to_onehot=None, max_delta_step=None, max_depth=None,\n",
       "              max_leaves=None, min_child_weight=None, missing=nan,\n",
       "              monotone_constraints=None, multi_strategy=None, n_estimators=200,\n",
       "              n_jobs=None, num_parallel_tree=None, ...)"
      ]
     },
     "execution_count": 28,
     "metadata": {},
     "output_type": "execute_result"
    }
   ],
   "source": [
    "model = XGBClassifier(\n",
    "    n_estimators=200,\n",
    "    gamma=0.8,\n",
    "    eta=0.015,\n",
    "    learning_rate=0.008)\n",
    "pipeline = Pipeline(steps=[('model', model)])\n",
    "model.fit(train, y_train)"
   ]
  },
  {
   "cell_type": "code",
   "execution_count": 29,
   "id": "5ecceeee",
   "metadata": {
    "execution": {
     "iopub.execute_input": "2025-01-31T15:25:14.858747Z",
     "iopub.status.busy": "2025-01-31T15:25:14.858369Z",
     "iopub.status.idle": "2025-01-31T15:25:15.479253Z",
     "shell.execute_reply": "2025-01-31T15:25:15.476974Z"
    },
    "papermill": {
     "duration": 0.640918,
     "end_time": "2025-01-31T15:25:15.481195",
     "exception": false,
     "start_time": "2025-01-31T15:25:14.840277",
     "status": "completed"
    },
    "tags": []
   },
   "outputs": [
    {
     "name": "stdout",
     "output_type": "stream",
     "text": [
      "Average accuracy score (across experiments):\n",
      "0.8316489862532169\n"
     ]
    }
   ],
   "source": [
    "scores = cross_val_score(pipeline, train, y_train,\n",
    "                              cv=5,\n",
    "                              scoring='accuracy')\n",
    "\n",
    "print(\"Average accuracy score (across experiments):\")\n",
    "print(scores.mean())"
   ]
  },
  {
   "cell_type": "code",
   "execution_count": 30,
   "id": "f640505b",
   "metadata": {
    "execution": {
     "iopub.execute_input": "2025-01-31T15:25:15.516274Z",
     "iopub.status.busy": "2025-01-31T15:25:15.515886Z",
     "iopub.status.idle": "2025-01-31T15:25:15.532329Z",
     "shell.execute_reply": "2025-01-31T15:25:15.531442Z"
    },
    "papermill": {
     "duration": 0.035107,
     "end_time": "2025-01-31T15:25:15.534506",
     "exception": false,
     "start_time": "2025-01-31T15:25:15.499399",
     "status": "completed"
    },
    "tags": []
   },
   "outputs": [],
   "source": [
    "preds_test = pipeline.predict(test)\n",
    "\n",
    "output = pd.DataFrame({'PassengerId': PassengerId,\n",
    "                       'Survived': preds_test})\n",
    "output.head()\n",
    "output.to_csv('submission.csv', index=False)"
   ]
  },
  {
   "cell_type": "code",
   "execution_count": null,
   "id": "8f93814c",
   "metadata": {
    "papermill": {
     "duration": 0.014598,
     "end_time": "2025-01-31T15:25:15.565512",
     "exception": false,
     "start_time": "2025-01-31T15:25:15.550914",
     "status": "completed"
    },
    "tags": []
   },
   "outputs": [],
   "source": []
  }
 ],
 "metadata": {
  "kaggle": {
   "accelerator": "none",
   "dataSources": [
    {
     "databundleVersionId": 26502,
     "sourceId": 3136,
     "sourceType": "competition"
    }
   ],
   "dockerImageVersionId": 30839,
   "isGpuEnabled": false,
   "isInternetEnabled": false,
   "language": "python",
   "sourceType": "notebook"
  },
  "kernelspec": {
   "display_name": "Python 3",
   "language": "python",
   "name": "python3"
  },
  "language_info": {
   "codemirror_mode": {
    "name": "ipython",
    "version": 3
   },
   "file_extension": ".py",
   "mimetype": "text/x-python",
   "name": "python",
   "nbconvert_exporter": "python",
   "pygments_lexer": "ipython3",
   "version": "3.10.12"
  },
  "papermill": {
   "default_parameters": {},
   "duration": 30.201307,
   "end_time": "2025-01-31T15:25:17.506207",
   "environment_variables": {},
   "exception": null,
   "input_path": "__notebook__.ipynb",
   "output_path": "__notebook__.ipynb",
   "parameters": {},
   "start_time": "2025-01-31T15:24:47.304900",
   "version": "2.6.0"
  }
 },
 "nbformat": 4,
 "nbformat_minor": 5
}
